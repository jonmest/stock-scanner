{
 "metadata": {
  "language_info": {
   "codemirror_mode": {
    "name": "ipython",
    "version": 3
   },
   "file_extension": ".py",
   "mimetype": "text/x-python",
   "name": "python",
   "nbconvert_exporter": "python",
   "pygments_lexer": "ipython3",
   "version": "3.8.10"
  },
  "orig_nbformat": 4,
  "kernelspec": {
   "name": "python3",
   "display_name": "Python 3.8.10 64-bit"
  },
  "interpreter": {
   "hash": "5b3ded1ccb95c1d9bd405e7b823d9e85424cde40fbb5985eb47e999ef50e15b4"
  }
 },
 "nbformat": 4,
 "nbformat_minor": 2,
 "cells": [
  {
   "cell_type": "code",
   "execution_count": null,
   "metadata": {},
   "outputs": [],
   "source": [
    "!pip install -i https://test.pypi.org/simple/ stock-screener-joncavme==0.0.1"
   ]
  },
  {
   "source": [
    "# Stock-screener examples\n",
    "Here are some basic examples on how to use stock-screener. The goal of the package is to provide some sort of simple library or framework for rapid development of your own scanners.\n",
    "## Very basic use case:\n"
   ],
   "cell_type": "markdown",
   "metadata": {}
  },
  {
   "cell_type": "code",
   "execution_count": null,
   "metadata": {},
   "outputs": [],
   "source": [
    "# A ready-made scanner class\n",
    "from stock_screener.scanner import BasicScanner\n",
    "\"\"\"\n",
    "A ready-made condition that determines whether a stock\n",
    "is above its 150- and 200-day simple moving average\n",
    "\"\"\"\n",
    "from stock_screener.condition.Above150And200SMA import Above150And200SMA\n",
    "\n",
    "# Which universe's stocks will we look at? NASDAQ\n",
    "universe = 'nasdaq'\n",
    "\"\"\"\n",
    "Stock-screener downloads these stocks' historical\n",
    "data to a local directory. Let's download it to a\n",
    "directory called \"nasdaq\" in the current directory.\n",
    "\"\"\"\n",
    "path = f'./{index}'"
   ]
  },
  {
   "source": [
    "Let us instantiate the scanner. This particular scanner takes the universe and a list of Conditions as arguments:"
   ],
   "cell_type": "markdown",
   "metadata": {}
  },
  {
   "cell_type": "code",
   "execution_count": null,
   "metadata": {},
   "outputs": [],
   "source": [
    "scanner = BasicScanner(index, [Above150And200SMA])"
   ]
  },
  {
   "source": [
    "Then, we download the stock data."
   ],
   "cell_type": "markdown",
   "metadata": {}
  },
  {
   "cell_type": "code",
   "execution_count": null,
   "metadata": {},
   "outputs": [],
   "source": [
    "scanner.loadData(path)\n"
   ]
  },
  {
   "source": [
    "Now we can get the stocks that conform to the given condition:"
   ],
   "cell_type": "markdown",
   "metadata": {}
  },
  {
   "cell_type": "code",
   "execution_count": null,
   "metadata": {},
   "outputs": [],
   "source": [
    "candidates = scanner.getCandidates()"
   ]
  },
  {
   "source": [
    "The method calls can also be chained to avoid redundant code:"
   ],
   "cell_type": "markdown",
   "metadata": {}
  },
  {
   "cell_type": "code",
   "execution_count": null,
   "metadata": {},
   "outputs": [],
   "source": [
    "candidates = (\n",
    "    BasicScanner(index, [Above150And200SMA])\n",
    "    .loadData(path)\n",
    "    .getCandidates()\n",
    ")"
   ]
  },
  {
   "source": [
    "## Creating your own Conditions\n",
    "You can easily create your own conditions to use in the scanner:"
   ],
   "cell_type": "markdown",
   "metadata": {}
  },
  {
   "cell_type": "code",
   "execution_count": null,
   "metadata": {},
   "outputs": [],
   "source": [
    "# Imported for type hinting\n",
    "from stock_screener import Stock\n",
    "from stock_screener.scanner import BasicScanner\n",
    "# Abstract parent class our Condition will inherit\n",
    "from stock_screener.condition import Condition"
   ]
  },
  {
   "source": [
    "To create a condition, you need to write a child class of the imported Condition class, and implement the `__init__` and `fulfilled` method. The constructor must accept a Stock instance, and should generally create private attributes later used in the `fulfilled` method. The `fulfilled` method should solely be concerned with assessing the truthness of the condition being fulfilled."
   ],
   "cell_type": "markdown",
   "metadata": {}
  },
  {
   "cell_type": "code",
   "execution_count": null,
   "metadata": {},
   "outputs": [],
   "source": [
    "class Consolidating(Condition):\n",
    "    def __init__(self, stock: Stock) -> None:\n",
    "        \"\"\"\n",
    "        Always call super in the constructor.\n",
    "        \"\"\"\n",
    "        super().__init__(stock)\n",
    "\n",
    "        # We will look from the last close to 10 days back\n",
    "        window = 10\n",
    "        try:\n",
    "            # Find the max and min closes in this window\n",
    "            self.max_close = stock.getClose()[-window:].max()\n",
    "            self.min_close = stock.getClose()[-window:].min()\n",
    "        except IndexError:\n",
    "            return False\n",
    "\n",
    "    def fulfilled(self) -> bool:\n",
    "        \"\"\"\n",
    "        If the difference between them is less than 3%\n",
    "        we consider the stock consolidated\n",
    "        \"\"\"\n",
    "        return self.min_close > (self.max_close * 0.97)"
   ]
  },
  {
   "cell_type": "code",
   "execution_count": null,
   "metadata": {},
   "outputs": [],
   "source": [
    "print(\"Looking for consolidated stocks.\")\n",
    "candidates = (\n",
    "    BasicScanner(index, [Consolidating])\n",
    "    .loadData(path)\n",
    "    .getCandidates()\n",
    ")\n",
    "\n",
    "print(list(map(lambda x: x.getTicker(), candidates)))"
   ]
  }
 ]
}